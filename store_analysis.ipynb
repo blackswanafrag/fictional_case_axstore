{
 "cells": [
  {
   "cell_type": "markdown",
   "id": "eacf38de",
   "metadata": {},
   "source": [
    "# Assosication rules"
   ]
  },
  {
   "cell_type": "code",
   "execution_count": 111,
   "id": "6595f62d",
   "metadata": {},
   "outputs": [],
   "source": [
    "import numpy as np\n",
    "import pandas as pd\n",
    "import mlxtend\n",
    "import seaborn as sns\n",
    "from matplotlib import pyplot as plt\n",
    "from mlxtend.frequent_patterns import apriori, association_rules"
   ]
  },
  {
   "cell_type": "markdown",
   "id": "65588f15",
   "metadata": {},
   "source": [
    "## Task\n",
    "The store manager has asked for your assistance with the following business problems.\n",
    "\n",
    "- **Task 1a:** The store plans to run a promotion on pizza cheese and the price reduction is expected to lead to a 300% increase in sales of pizza cheese. To keep up with demand, the store manager has notified the supply chain of the expected increase in sales of pizza cheese. \n",
    "- **Task 1b:** Should the store manager also alert the supply chain of a potential increase in demand of any other items?\n",
    "\n",
    "\n",
    "- **Task 2:** Taco Shells is one of Axstore’s most popular articles, but unfortunately, the vendor is out of stock and cannot make any more deliveries of that article for the coming weeks. Can the store manager order more of some other article to compensate for the loss of taco shells? That is to say, do we have reason to believe that the sales of taco shells will be transferred to some other articles in the assortment? The problems can be treated separately since Axstore’s current stock of taco shells is expected to last beyond the end date of the promotion on pizza cheese. \n",
    "\n",
    "\n",
    "The data is stored in the file ‘Axstore.csv’ and has the following columns. \n",
    "- Sales_Tran_Seq_Num: A sequence number that identifies a certain transaction. \n",
    "- Member_Account_Seq_Num: A sequence number that identifies the member that made the transaction. \n",
    "- Article_Seq_Num: A sequence number that identifies a certain article belonging to the transaction.\n",
    "\n",
    "Note that each article appears at most once on a receipt and that the sold quantity of each item has been removed from the data set since that information is not relevant for this case"
   ]
  },
  {
   "cell_type": "markdown",
   "id": "ac973612",
   "metadata": {},
   "source": [
    "## Data preparation"
   ]
  },
  {
   "cell_type": "code",
   "execution_count": 112,
   "id": "7a2b8ffe",
   "metadata": {},
   "outputs": [],
   "source": [
    "df=pd.read_csv(\"Axstore.csv\")"
   ]
  },
  {
   "cell_type": "code",
   "execution_count": 113,
   "id": "76d66126",
   "metadata": {
    "scrolled": true
   },
   "outputs": [
    {
     "data": {
      "text/html": [
       "<div>\n",
       "<style scoped>\n",
       "    .dataframe tbody tr th:only-of-type {\n",
       "        vertical-align: middle;\n",
       "    }\n",
       "\n",
       "    .dataframe tbody tr th {\n",
       "        vertical-align: top;\n",
       "    }\n",
       "\n",
       "    .dataframe thead th {\n",
       "        text-align: right;\n",
       "    }\n",
       "</style>\n",
       "<table border=\"1\" class=\"dataframe\">\n",
       "  <thead>\n",
       "    <tr style=\"text-align: right;\">\n",
       "      <th></th>\n",
       "      <th>Sales_Tran_Seq_Num</th>\n",
       "      <th>Member_Account_Seq_Num</th>\n",
       "      <th>Article_Seq_Num</th>\n",
       "      <th>Article_Desc</th>\n",
       "    </tr>\n",
       "  </thead>\n",
       "  <tbody>\n",
       "    <tr>\n",
       "      <th>0</th>\n",
       "      <td>0</td>\n",
       "      <td>51</td>\n",
       "      <td>0</td>\n",
       "      <td>banana</td>\n",
       "    </tr>\n",
       "    <tr>\n",
       "      <th>1</th>\n",
       "      <td>0</td>\n",
       "      <td>51</td>\n",
       "      <td>16</td>\n",
       "      <td>apple</td>\n",
       "    </tr>\n",
       "    <tr>\n",
       "      <th>2</th>\n",
       "      <td>1</td>\n",
       "      <td>36</td>\n",
       "      <td>0</td>\n",
       "      <td>banana</td>\n",
       "    </tr>\n",
       "    <tr>\n",
       "      <th>4</th>\n",
       "      <td>1</td>\n",
       "      <td>36</td>\n",
       "      <td>5</td>\n",
       "      <td>pineapple</td>\n",
       "    </tr>\n",
       "    <tr>\n",
       "      <th>5</th>\n",
       "      <td>1</td>\n",
       "      <td>36</td>\n",
       "      <td>10</td>\n",
       "      <td>ham</td>\n",
       "    </tr>\n",
       "    <tr>\n",
       "      <th>6</th>\n",
       "      <td>1</td>\n",
       "      <td>36</td>\n",
       "      <td>13</td>\n",
       "      <td>pizza_cheese</td>\n",
       "    </tr>\n",
       "    <tr>\n",
       "      <th>7</th>\n",
       "      <td>1</td>\n",
       "      <td>36</td>\n",
       "      <td>15</td>\n",
       "      <td>mozarella</td>\n",
       "    </tr>\n",
       "    <tr>\n",
       "      <th>3</th>\n",
       "      <td>1</td>\n",
       "      <td>36</td>\n",
       "      <td>16</td>\n",
       "      <td>apple</td>\n",
       "    </tr>\n",
       "    <tr>\n",
       "      <th>8</th>\n",
       "      <td>1</td>\n",
       "      <td>36</td>\n",
       "      <td>23</td>\n",
       "      <td>croutons</td>\n",
       "    </tr>\n",
       "    <tr>\n",
       "      <th>9</th>\n",
       "      <td>1</td>\n",
       "      <td>36</td>\n",
       "      <td>24</td>\n",
       "      <td>lettuce</td>\n",
       "    </tr>\n",
       "  </tbody>\n",
       "</table>\n",
       "</div>"
      ],
      "text/plain": [
       "   Sales_Tran_Seq_Num  Member_Account_Seq_Num  Article_Seq_Num  Article_Desc\n",
       "0                   0                      51                0        banana\n",
       "1                   0                      51               16         apple\n",
       "2                   1                      36                0        banana\n",
       "4                   1                      36                5     pineapple\n",
       "5                   1                      36               10           ham\n",
       "6                   1                      36               13  pizza_cheese\n",
       "7                   1                      36               15     mozarella\n",
       "3                   1                      36               16         apple\n",
       "8                   1                      36               23      croutons\n",
       "9                   1                      36               24       lettuce"
      ]
     },
     "execution_count": 113,
     "metadata": {},
     "output_type": "execute_result"
    }
   ],
   "source": [
    "df['Article_Desc'] = df['Article_Desc'].str.lower().str.replace(' ', '_')\n",
    "df.sort_values(by=['Sales_Tran_Seq_Num', 'Member_Account_Seq_Num', 'Article_Seq_Num']).head(10)"
   ]
  },
  {
   "cell_type": "code",
   "execution_count": 4,
   "id": "2a332f00",
   "metadata": {},
   "outputs": [
    {
     "data": {
      "text/plain": [
       "(32742, 4)"
      ]
     },
     "execution_count": 4,
     "metadata": {},
     "output_type": "execute_result"
    }
   ],
   "source": [
    "df.shape"
   ]
  },
  {
   "cell_type": "code",
   "execution_count": 23,
   "id": "d83086b8",
   "metadata": {},
   "outputs": [
    {
     "data": {
      "text/plain": [
       "(9151,)"
      ]
     },
     "execution_count": 23,
     "metadata": {},
     "output_type": "execute_result"
    }
   ],
   "source": [
    "df.Sales_Tran_Seq_Num.unique().shape"
   ]
  },
  {
   "cell_type": "code",
   "execution_count": 25,
   "id": "32abbc9d",
   "metadata": {},
   "outputs": [
    {
     "data": {
      "text/plain": [
       "array(['banana', 'apple', 'pineapple', 'ham', 'pizza_cheese', 'mozarella',\n",
       "       'croutons', 'lettuce', 'chicken', 'olives', 'prosciutto',\n",
       "       'parmesan', 'pizza_kit', 'mushroom', 'squid', 'crab_stick',\n",
       "       'ruccola', 'entrecote', 'feta', 'onion', 'corn', 'taco_spice_mix',\n",
       "       'taco_shell', 'taco_salsa', 'minced_meat', 'tomato', 'shrimp',\n",
       "       'taco_tortilla', 'penne', 'taco_tubs'], dtype=object)"
      ]
     },
     "execution_count": 25,
     "metadata": {},
     "output_type": "execute_result"
    }
   ],
   "source": [
    "df.Article_Desc.unique()"
   ]
  },
  {
   "cell_type": "markdown",
   "id": "e7c7d56b",
   "metadata": {},
   "source": [
    "## Data exploration"
   ]
  },
  {
   "cell_type": "code",
   "execution_count": 87,
   "id": "677911e2",
   "metadata": {},
   "outputs": [
    {
     "data": {
      "text/html": [
       "<div>\n",
       "<style scoped>\n",
       "    .dataframe tbody tr th:only-of-type {\n",
       "        vertical-align: middle;\n",
       "    }\n",
       "\n",
       "    .dataframe tbody tr th {\n",
       "        vertical-align: top;\n",
       "    }\n",
       "\n",
       "    .dataframe thead th {\n",
       "        text-align: right;\n",
       "    }\n",
       "</style>\n",
       "<table border=\"1\" class=\"dataframe\">\n",
       "  <thead>\n",
       "    <tr style=\"text-align: right;\">\n",
       "      <th></th>\n",
       "      <th>Article_Desc</th>\n",
       "      <th>count</th>\n",
       "    </tr>\n",
       "  </thead>\n",
       "  <tbody>\n",
       "    <tr>\n",
       "      <th>1</th>\n",
       "      <td>banana</td>\n",
       "      <td>7813</td>\n",
       "    </tr>\n",
       "    <tr>\n",
       "      <th>19</th>\n",
       "      <td>pizza_kit</td>\n",
       "      <td>1698</td>\n",
       "    </tr>\n",
       "    <tr>\n",
       "      <th>13</th>\n",
       "      <td>olives</td>\n",
       "      <td>1408</td>\n",
       "    </tr>\n",
       "    <tr>\n",
       "      <th>0</th>\n",
       "      <td>apple</td>\n",
       "      <td>1372</td>\n",
       "    </tr>\n",
       "    <tr>\n",
       "      <th>8</th>\n",
       "      <td>ham</td>\n",
       "      <td>1211</td>\n",
       "    </tr>\n",
       "  </tbody>\n",
       "</table>\n",
       "</div>"
      ],
      "text/plain": [
       "   Article_Desc  count\n",
       "1        banana   7813\n",
       "19    pizza_kit   1698\n",
       "13       olives   1408\n",
       "0         apple   1372\n",
       "8           ham   1211"
      ]
     },
     "execution_count": 87,
     "metadata": {},
     "output_type": "execute_result"
    }
   ],
   "source": [
    "df_plot=df\n",
    "df_plot[\"count\"]=1\n",
    "df_plot2=df_plot[[\"Article_Desc\",\"count\"]].groupby(\"Article_Desc\").sum().reset_index().sort_values(by=\"count\",ascending=False)\n",
    "df_plot2.head()"
   ]
  },
  {
   "cell_type": "code",
   "execution_count": 90,
   "id": "f02f8837",
   "metadata": {
    "scrolled": true
   },
   "outputs": [
    {
     "data": {
      "image/png": "[encoded data removed]",
      "text/plain": [
       "<Figure size 576x1080 with 1 Axes>"
      ]
     },
     "metadata": {
      "needs_background": "light"
     },
     "output_type": "display_data"
    }
   ],
   "source": [
    "plt.figure(figsize=(8,15))\n",
    "ax=sns.barplot(data=df_plot2, y=\"Article_Desc\", x=\"count\")\n",
    "# plt.xticks(rotation=90)\n",
    "plt.show()"
   ]
  },
  {
   "cell_type": "markdown",
   "id": "0283c095",
   "metadata": {},
   "source": [
    "## Association rules\n",
    "\n",
    "Association rules in retail refer to a data mining technique used to identify relationships between different items or products sold in a retail store. It helps retailers to understand how different products are associated with each other, and how they are likely to be purchased together by customers.\n",
    "\n",
    "The association rules algorithm works by analyzing customer transaction data, such as sales receipts or online shopping baskets, to identify patterns and associations between items. It does this by examining the frequency of co-occurrence of different products in the same transaction. For example, it might discover that customers who buy bread are also likely to buy butter or that customers who purchase diapers are likely to also buy baby wipes.\n",
    "\n",
    "### Apriori algorithm\n",
    "\n",
    "The Apriori algorithm is a popular data mining technique used for mining frequent itemsets and generating association rules. It is a simple and efficient algorithm that is commonly used in retail and e-commerce applications to discover meaningful relationships between different items purchased by customers.\n",
    "\n",
    "The Apriori algorithm works by scanning through a dataset of transactions and identifying sets of items that occur together frequently. It then uses these frequent itemsets to generate association rules, which represent the relationship between different items or products. The algorithm uses a minimum support threshold to determine which itemsets should be considered frequent.\n",
    "\n",
    "The Apriori algorithm works in the following way:\n",
    "\n",
    "- Scan the dataset to identify the support of each item (i.e., the frequency of occurrence of each item).\n",
    "- Generate frequent itemsets by iteratively increasing the size of the itemset until no more frequent itemsets can be found.\n",
    "- Generate association rules from the frequent itemsets, using a minimum confidence threshold to determine which rules are meaningful.\n",
    "\n",
    "\n",
    "The Apriori algorithm generates association rules that are evaluated using several metrics to determine their usefulness and significance. The most commonly used metrics are:\n",
    "\n",
    "- Support: The support of an itemset is defined as the proportion of transactions in the dataset that contain that itemset. It measures the frequency of occurrence of the itemset in the dataset. Higher support indicates that the itemset is more popular among customers. transactions_where_item(s)_occur / total_transactions.\n",
    "\n",
    "\n",
    "- Confidence: The confidence of an association rule measures how often the consequent (the itemset that appears on the right-hand side of the rule) appears in transactions that also contain the antecedent (the itemset that appears on the left-hand side of the rule). It is defined as the proportion of transactions containing both the antecedent and the consequent, out of the transactions containing the antecedent. Higher confidence indicates a stronger association between the antecedent and the consequent.\n",
    "\n",
    "\n",
    "- Lift: The lift of an association rule measures how much the presence of the antecedent increases the likelihood of the consequent, compared to the baseline probability of the consequent. It is defined as the ratio of the observed support of the antecedent and the consequent to the expected support if they were independent. A lift value greater than 1 indicates that the antecedent and consequent appear together more frequently than expected, and thus there is a positive correlation between them. If the lift is > 1, that lets us know the degree to which those two occurrences are dependent on one another, and makes those rules potentially useful for predicting the consequent in future data sets. If the lift is < 1, that lets us know the items are substitute to each other. This means that presence of one item has negative effect on presence of other item and vice versa.\n",
    "\n",
    "\n",
    "- Conviction: The conviction of an association rule measures the degree of implication between the antecedent and the consequent, and it is defined as the ratio of the probability that the antecedent occurs without the consequent to the probability that the antecedent and the consequent occur together. Higher conviction indicates a stronger implication between the antecedent and the consequent."
   ]
  },
  {
   "cell_type": "markdown",
   "id": "2ee8a255",
   "metadata": {},
   "source": [
    "## Solution\n",
    "\n",
    "- Task 1: Find complementary products that we can expect a rise to. That is, rules with high confidece and lift>1\n",
    "- Task 2: Find substitutes to replace taco shells with. That is, find lift <1 with high confidence. Or, find products bought with complemantary products substituting the product in question. "
   ]
  },
  {
   "cell_type": "code",
   "execution_count": 114,
   "id": "da0273bc",
   "metadata": {},
   "outputs": [],
   "source": [
    "table = df.pivot_table(index=['Sales_Tran_Seq_Num', 'Member_Account_Seq_Num'],\n",
    "                    columns=\"Article_Desc\", aggfunc=\"count\",fill_value=0)"
   ]
  },
  {
   "cell_type": "code",
   "execution_count": 115,
   "id": "b8ebaa7d",
   "metadata": {},
   "outputs": [],
   "source": [
    "table.columns = table.columns.droplevel()"
   ]
  },
  {
   "cell_type": "code",
   "execution_count": 116,
   "id": "0bab9db7",
   "metadata": {},
   "outputs": [],
   "source": [
    "table.reset_index(inplace=True)"
   ]
  },
  {
   "cell_type": "code",
   "execution_count": 117,
   "id": "4878193e",
   "metadata": {},
   "outputs": [
    {
     "data": {
      "text/html": [
       "<div>\n",
       "<style scoped>\n",
       "    .dataframe tbody tr th:only-of-type {\n",
       "        vertical-align: middle;\n",
       "    }\n",
       "\n",
       "    .dataframe tbody tr th {\n",
       "        vertical-align: top;\n",
       "    }\n",
       "\n",
       "    .dataframe thead th {\n",
       "        text-align: right;\n",
       "    }\n",
       "</style>\n",
       "<table border=\"1\" class=\"dataframe\">\n",
       "  <thead>\n",
       "    <tr style=\"text-align: right;\">\n",
       "      <th>Article_Desc</th>\n",
       "      <th>Sales_Tran_Seq_Num</th>\n",
       "      <th>Member_Account_Seq_Num</th>\n",
       "      <th>apple</th>\n",
       "      <th>banana</th>\n",
       "      <th>chicken</th>\n",
       "      <th>corn</th>\n",
       "      <th>crab_stick</th>\n",
       "      <th>croutons</th>\n",
       "      <th>entrecote</th>\n",
       "      <th>feta</th>\n",
       "      <th>...</th>\n",
       "      <th>prosciutto</th>\n",
       "      <th>ruccola</th>\n",
       "      <th>shrimp</th>\n",
       "      <th>squid</th>\n",
       "      <th>taco_salsa</th>\n",
       "      <th>taco_shell</th>\n",
       "      <th>taco_spice_mix</th>\n",
       "      <th>taco_tortilla</th>\n",
       "      <th>taco_tubs</th>\n",
       "      <th>tomato</th>\n",
       "    </tr>\n",
       "  </thead>\n",
       "  <tbody>\n",
       "    <tr>\n",
       "      <th>0</th>\n",
       "      <td>0</td>\n",
       "      <td>51</td>\n",
       "      <td>1</td>\n",
       "      <td>1</td>\n",
       "      <td>0</td>\n",
       "      <td>0</td>\n",
       "      <td>0</td>\n",
       "      <td>0</td>\n",
       "      <td>0</td>\n",
       "      <td>0</td>\n",
       "      <td>...</td>\n",
       "      <td>0</td>\n",
       "      <td>0</td>\n",
       "      <td>0</td>\n",
       "      <td>0</td>\n",
       "      <td>0</td>\n",
       "      <td>0</td>\n",
       "      <td>0</td>\n",
       "      <td>0</td>\n",
       "      <td>0</td>\n",
       "      <td>0</td>\n",
       "    </tr>\n",
       "    <tr>\n",
       "      <th>1</th>\n",
       "      <td>1</td>\n",
       "      <td>36</td>\n",
       "      <td>1</td>\n",
       "      <td>1</td>\n",
       "      <td>0</td>\n",
       "      <td>0</td>\n",
       "      <td>0</td>\n",
       "      <td>1</td>\n",
       "      <td>0</td>\n",
       "      <td>0</td>\n",
       "      <td>...</td>\n",
       "      <td>0</td>\n",
       "      <td>0</td>\n",
       "      <td>0</td>\n",
       "      <td>0</td>\n",
       "      <td>0</td>\n",
       "      <td>0</td>\n",
       "      <td>0</td>\n",
       "      <td>0</td>\n",
       "      <td>0</td>\n",
       "      <td>0</td>\n",
       "    </tr>\n",
       "    <tr>\n",
       "      <th>2</th>\n",
       "      <td>2</td>\n",
       "      <td>10</td>\n",
       "      <td>0</td>\n",
       "      <td>1</td>\n",
       "      <td>0</td>\n",
       "      <td>0</td>\n",
       "      <td>0</td>\n",
       "      <td>0</td>\n",
       "      <td>0</td>\n",
       "      <td>0</td>\n",
       "      <td>...</td>\n",
       "      <td>0</td>\n",
       "      <td>0</td>\n",
       "      <td>0</td>\n",
       "      <td>0</td>\n",
       "      <td>0</td>\n",
       "      <td>0</td>\n",
       "      <td>0</td>\n",
       "      <td>0</td>\n",
       "      <td>0</td>\n",
       "      <td>0</td>\n",
       "    </tr>\n",
       "    <tr>\n",
       "      <th>3</th>\n",
       "      <td>3</td>\n",
       "      <td>11</td>\n",
       "      <td>0</td>\n",
       "      <td>0</td>\n",
       "      <td>1</td>\n",
       "      <td>0</td>\n",
       "      <td>0</td>\n",
       "      <td>1</td>\n",
       "      <td>0</td>\n",
       "      <td>0</td>\n",
       "      <td>...</td>\n",
       "      <td>0</td>\n",
       "      <td>0</td>\n",
       "      <td>0</td>\n",
       "      <td>0</td>\n",
       "      <td>0</td>\n",
       "      <td>0</td>\n",
       "      <td>0</td>\n",
       "      <td>0</td>\n",
       "      <td>0</td>\n",
       "      <td>0</td>\n",
       "    </tr>\n",
       "    <tr>\n",
       "      <th>4</th>\n",
       "      <td>4</td>\n",
       "      <td>39</td>\n",
       "      <td>0</td>\n",
       "      <td>1</td>\n",
       "      <td>0</td>\n",
       "      <td>0</td>\n",
       "      <td>0</td>\n",
       "      <td>0</td>\n",
       "      <td>0</td>\n",
       "      <td>0</td>\n",
       "      <td>...</td>\n",
       "      <td>0</td>\n",
       "      <td>0</td>\n",
       "      <td>0</td>\n",
       "      <td>0</td>\n",
       "      <td>0</td>\n",
       "      <td>0</td>\n",
       "      <td>0</td>\n",
       "      <td>0</td>\n",
       "      <td>0</td>\n",
       "      <td>0</td>\n",
       "    </tr>\n",
       "  </tbody>\n",
       "</table>\n",
       "<p>5 rows × 32 columns</p>\n",
       "</div>"
      ],
      "text/plain": [
       "Article_Desc  Sales_Tran_Seq_Num  Member_Account_Seq_Num  apple  banana  \\\n",
       "0                              0                      51      1       1   \n",
       "1                              1                      36      1       1   \n",
       "2                              2                      10      0       1   \n",
       "3                              3                      11      0       0   \n",
       "4                              4                      39      0       1   \n",
       "\n",
       "Article_Desc  chicken  corn  crab_stick  croutons  entrecote  feta  ...  \\\n",
       "0                   0     0           0         0          0     0  ...   \n",
       "1                   0     0           0         1          0     0  ...   \n",
       "2                   0     0           0         0          0     0  ...   \n",
       "3                   1     0           0         1          0     0  ...   \n",
       "4                   0     0           0         0          0     0  ...   \n",
       "\n",
       "Article_Desc  prosciutto  ruccola  shrimp  squid  taco_salsa  taco_shell  \\\n",
       "0                      0        0       0      0           0           0   \n",
       "1                      0        0       0      0           0           0   \n",
       "2                      0        0       0      0           0           0   \n",
       "3                      0        0       0      0           0           0   \n",
       "4                      0        0       0      0           0           0   \n",
       "\n",
       "Article_Desc  taco_spice_mix  taco_tortilla  taco_tubs  tomato  \n",
       "0                          0              0          0       0  \n",
       "1                          0              0          0       0  \n",
       "2                          0              0          0       0  \n",
       "3                          0              0          0       0  \n",
       "4                          0              0          0       0  \n",
       "\n",
       "[5 rows x 32 columns]"
      ]
     },
     "execution_count": 117,
     "metadata": {},
     "output_type": "execute_result"
    }
   ],
   "source": [
    "table.head()"
   ]
  },
  {
   "cell_type": "code",
   "execution_count": 118,
   "id": "22f7e57c",
   "metadata": {},
   "outputs": [
    {
     "data": {
      "text/plain": [
       "245"
      ]
     },
     "execution_count": 118,
     "metadata": {},
     "output_type": "execute_result"
    }
   ],
   "source": [
    "table[\"taco_shell\"].sum()"
   ]
  },
  {
   "cell_type": "code",
   "execution_count": 119,
   "id": "c711508f",
   "metadata": {},
   "outputs": [],
   "source": [
    "table=table[table.columns[2:]]"
   ]
  },
  {
   "cell_type": "code",
   "execution_count": 175,
   "id": "8b1bcba9",
   "metadata": {},
   "outputs": [
    {
     "name": "stderr",
     "output_type": "stream",
     "text": [
      "C:\\Users\\iye881\\Anaconda3\\lib\\site-packages\\mlxtend\\frequent_patterns\\fpcommon.py:111: DeprecationWarning: DataFrames with non-bool types result in worse computationalperformance and their support might be discontinued in the future.Please use a DataFrame with bool type\n",
      "  warnings.warn(\n"
     ]
    }
   ],
   "source": [
    "# min_support set to a low support since higher thresholds filters to many item sets \n",
    "frq_items = apriori(table, min_support = 0.02, use_colnames = True)"
   ]
  },
  {
   "cell_type": "markdown",
   "id": "cd2f5ce8",
   "metadata": {},
   "source": [
    "# Task 1 - Complementary products to pizza kit\n",
    "- **Task 1a:** The store plans to run a promotion on pizza cheese and the price reduction is expected to lead to a 300% increase in sales of pizza cheese. To keep up with demand, the store manager has notified the supply chain of the expected increase in sales of pizza cheese. \n",
    "- **Task 1b:** Should the store manager also alert the supply chain of a potential increase in demand of any other items?"
   ]
  },
  {
   "cell_type": "markdown",
   "id": "ccb903ef",
   "metadata": {},
   "source": [
    "## Task 1a - Find complementary products with high confidence, lift and conviction"
   ]
  },
  {
   "cell_type": "code",
   "execution_count": 176,
   "id": "89870389",
   "metadata": {},
   "outputs": [],
   "source": [
    "# min_threshold = 0.7 to ensure that generated itemset occur frequently torgehter  \n",
    "confidence_df = association_rules(frq_items, metric =\"confidence\", min_threshold = 0.7)"
   ]
  },
  {
   "cell_type": "code",
   "execution_count": 177,
   "id": "5df88b54",
   "metadata": {},
   "outputs": [
    {
     "data": {
      "text/html": [
       "<div>\n",
       "<style scoped>\n",
       "    .dataframe tbody tr th:only-of-type {\n",
       "        vertical-align: middle;\n",
       "    }\n",
       "\n",
       "    .dataframe tbody tr th {\n",
       "        vertical-align: top;\n",
       "    }\n",
       "\n",
       "    .dataframe thead th {\n",
       "        text-align: right;\n",
       "    }\n",
       "</style>\n",
       "<table border=\"1\" class=\"dataframe\">\n",
       "  <thead>\n",
       "    <tr style=\"text-align: right;\">\n",
       "      <th></th>\n",
       "      <th>antecedents</th>\n",
       "      <th>consequents</th>\n",
       "      <th>antecedent support</th>\n",
       "      <th>consequent support</th>\n",
       "      <th>support</th>\n",
       "      <th>confidence</th>\n",
       "      <th>lift</th>\n",
       "      <th>leverage</th>\n",
       "      <th>conviction</th>\n",
       "    </tr>\n",
       "  </thead>\n",
       "  <tbody>\n",
       "    <tr>\n",
       "      <th>186</th>\n",
       "      <td>(parmesan, pizza_kit)</td>\n",
       "      <td>(prosciutto)</td>\n",
       "      <td>0.068080</td>\n",
       "      <td>0.091793</td>\n",
       "      <td>0.049284</td>\n",
       "      <td>0.723917</td>\n",
       "      <td>7.886381</td>\n",
       "      <td>0.043035</td>\n",
       "      <td>3.289609</td>\n",
       "    </tr>\n",
       "    <tr>\n",
       "      <th>262</th>\n",
       "      <td>(parmesan, banana, pizza_kit)</td>\n",
       "      <td>(prosciutto)</td>\n",
       "      <td>0.051798</td>\n",
       "      <td>0.091793</td>\n",
       "      <td>0.037045</td>\n",
       "      <td>0.715190</td>\n",
       "      <td>7.791313</td>\n",
       "      <td>0.032290</td>\n",
       "      <td>3.188815</td>\n",
       "    </tr>\n",
       "    <tr>\n",
       "      <th>185</th>\n",
       "      <td>(prosciutto, pizza_kit)</td>\n",
       "      <td>(parmesan)</td>\n",
       "      <td>0.068954</td>\n",
       "      <td>0.092121</td>\n",
       "      <td>0.049284</td>\n",
       "      <td>0.714739</td>\n",
       "      <td>7.758686</td>\n",
       "      <td>0.042932</td>\n",
       "      <td>3.182620</td>\n",
       "    </tr>\n",
       "    <tr>\n",
       "      <th>261</th>\n",
       "      <td>(prosciutto, banana, pizza_kit)</td>\n",
       "      <td>(parmesan)</td>\n",
       "      <td>0.052344</td>\n",
       "      <td>0.092121</td>\n",
       "      <td>0.037045</td>\n",
       "      <td>0.707724</td>\n",
       "      <td>7.682546</td>\n",
       "      <td>0.032223</td>\n",
       "      <td>3.106243</td>\n",
       "    </tr>\n",
       "    <tr>\n",
       "      <th>341</th>\n",
       "      <td>(prosciutto, banana, pizza_kit, olives)</td>\n",
       "      <td>(parmesan)</td>\n",
       "      <td>0.032565</td>\n",
       "      <td>0.092121</td>\n",
       "      <td>0.022948</td>\n",
       "      <td>0.704698</td>\n",
       "      <td>7.649693</td>\n",
       "      <td>0.019948</td>\n",
       "      <td>3.074408</td>\n",
       "    </tr>\n",
       "    <tr>\n",
       "      <th>329</th>\n",
       "      <td>(banana, pizza_kit, pineapple, ham)</td>\n",
       "      <td>(pizza_cheese)</td>\n",
       "      <td>0.040105</td>\n",
       "      <td>0.109606</td>\n",
       "      <td>0.032237</td>\n",
       "      <td>0.803815</td>\n",
       "      <td>7.333707</td>\n",
       "      <td>0.027841</td>\n",
       "      <td>4.538539</td>\n",
       "    </tr>\n",
       "    <tr>\n",
       "      <th>263</th>\n",
       "      <td>(banana, pizza_cheese, pizza_kit)</td>\n",
       "      <td>(pineapple)</td>\n",
       "      <td>0.061086</td>\n",
       "      <td>0.112884</td>\n",
       "      <td>0.049940</td>\n",
       "      <td>0.817531</td>\n",
       "      <td>7.242235</td>\n",
       "      <td>0.043044</td>\n",
       "      <td>4.861744</td>\n",
       "    </tr>\n",
       "    <tr>\n",
       "      <th>328</th>\n",
       "      <td>(banana, pizza_cheese, pizza_kit, ham)</td>\n",
       "      <td>(pineapple)</td>\n",
       "      <td>0.039449</td>\n",
       "      <td>0.112884</td>\n",
       "      <td>0.032237</td>\n",
       "      <td>0.817175</td>\n",
       "      <td>7.239075</td>\n",
       "      <td>0.027784</td>\n",
       "      <td>4.852257</td>\n",
       "    </tr>\n",
       "    <tr>\n",
       "      <th>187</th>\n",
       "      <td>(pizza_cheese, pizza_kit)</td>\n",
       "      <td>(pineapple)</td>\n",
       "      <td>0.068845</td>\n",
       "      <td>0.112884</td>\n",
       "      <td>0.056169</td>\n",
       "      <td>0.815873</td>\n",
       "      <td>7.227545</td>\n",
       "      <td>0.048397</td>\n",
       "      <td>4.817958</td>\n",
       "    </tr>\n",
       "    <tr>\n",
       "      <th>294</th>\n",
       "      <td>(pizza_cheese, pizza_kit, ham)</td>\n",
       "      <td>(pineapple)</td>\n",
       "      <td>0.042728</td>\n",
       "      <td>0.112884</td>\n",
       "      <td>0.034860</td>\n",
       "      <td>0.815857</td>\n",
       "      <td>7.227401</td>\n",
       "      <td>0.030036</td>\n",
       "      <td>4.817534</td>\n",
       "    </tr>\n",
       "    <tr>\n",
       "      <th>295</th>\n",
       "      <td>(pineapple, pizza_kit, ham)</td>\n",
       "      <td>(pizza_cheese)</td>\n",
       "      <td>0.044039</td>\n",
       "      <td>0.109606</td>\n",
       "      <td>0.034860</td>\n",
       "      <td>0.791563</td>\n",
       "      <td>7.221930</td>\n",
       "      <td>0.030033</td>\n",
       "      <td>4.271774</td>\n",
       "    </tr>\n",
       "    <tr>\n",
       "      <th>265</th>\n",
       "      <td>(banana, pizza_kit, pineapple)</td>\n",
       "      <td>(pizza_cheese)</td>\n",
       "      <td>0.063490</td>\n",
       "      <td>0.109606</td>\n",
       "      <td>0.049940</td>\n",
       "      <td>0.786575</td>\n",
       "      <td>7.176417</td>\n",
       "      <td>0.042981</td>\n",
       "      <td>4.171929</td>\n",
       "    </tr>\n",
       "    <tr>\n",
       "      <th>188</th>\n",
       "      <td>(pizza_kit, pineapple)</td>\n",
       "      <td>(pizza_cheese)</td>\n",
       "      <td>0.072560</td>\n",
       "      <td>0.109606</td>\n",
       "      <td>0.056169</td>\n",
       "      <td>0.774096</td>\n",
       "      <td>7.062568</td>\n",
       "      <td>0.048216</td>\n",
       "      <td>3.941480</td>\n",
       "    </tr>\n",
       "  </tbody>\n",
       "</table>\n",
       "</div>"
      ],
      "text/plain": [
       "                                 antecedents     consequents  \\\n",
       "186                    (parmesan, pizza_kit)    (prosciutto)   \n",
       "262            (parmesan, banana, pizza_kit)    (prosciutto)   \n",
       "185                  (prosciutto, pizza_kit)      (parmesan)   \n",
       "261          (prosciutto, banana, pizza_kit)      (parmesan)   \n",
       "341  (prosciutto, banana, pizza_kit, olives)      (parmesan)   \n",
       "329      (banana, pizza_kit, pineapple, ham)  (pizza_cheese)   \n",
       "263        (banana, pizza_cheese, pizza_kit)     (pineapple)   \n",
       "328   (banana, pizza_cheese, pizza_kit, ham)     (pineapple)   \n",
       "187                (pizza_cheese, pizza_kit)     (pineapple)   \n",
       "294           (pizza_cheese, pizza_kit, ham)     (pineapple)   \n",
       "295              (pineapple, pizza_kit, ham)  (pizza_cheese)   \n",
       "265           (banana, pizza_kit, pineapple)  (pizza_cheese)   \n",
       "188                   (pizza_kit, pineapple)  (pizza_cheese)   \n",
       "\n",
       "     antecedent support  consequent support   support  confidence      lift  \\\n",
       "186            0.068080            0.091793  0.049284    0.723917  7.886381   \n",
       "262            0.051798            0.091793  0.037045    0.715190  7.791313   \n",
       "185            0.068954            0.092121  0.049284    0.714739  7.758686   \n",
       "261            0.052344            0.092121  0.037045    0.707724  7.682546   \n",
       "341            0.032565            0.092121  0.022948    0.704698  7.649693   \n",
       "329            0.040105            0.109606  0.032237    0.803815  7.333707   \n",
       "263            0.061086            0.112884  0.049940    0.817531  7.242235   \n",
       "328            0.039449            0.112884  0.032237    0.817175  7.239075   \n",
       "187            0.068845            0.112884  0.056169    0.815873  7.227545   \n",
       "294            0.042728            0.112884  0.034860    0.815857  7.227401   \n",
       "295            0.044039            0.109606  0.034860    0.791563  7.221930   \n",
       "265            0.063490            0.109606  0.049940    0.786575  7.176417   \n",
       "188            0.072560            0.109606  0.056169    0.774096  7.062568   \n",
       "\n",
       "     leverage  conviction  \n",
       "186  0.043035    3.289609  \n",
       "262  0.032290    3.188815  \n",
       "185  0.042932    3.182620  \n",
       "261  0.032223    3.106243  \n",
       "341  0.019948    3.074408  \n",
       "329  0.027841    4.538539  \n",
       "263  0.043044    4.861744  \n",
       "328  0.027784    4.852257  \n",
       "187  0.048397    4.817958  \n",
       "294  0.030036    4.817534  \n",
       "295  0.030033    4.271774  \n",
       "265  0.042981    4.171929  \n",
       "188  0.048216    3.941480  "
      ]
     },
     "execution_count": 177,
     "metadata": {},
     "output_type": "execute_result"
    }
   ],
   "source": [
    "# filter out pizza-kit item-sets with more than one item in it\n",
    "pizza_kit_rows = confidence_df[confidence_df['antecedents'].apply(lambda x: \"pizza_kit\" in x)]\n",
    "pizza_kit_rows = pizza_kit_rows[pizza_kit_rows['consequents'].apply(lambda x: len(x) == 1)]\n",
    "\n",
    "# filter out banan since its conviction value is comparably low, and that banan occurs in almost every transaction\n",
    "pizza_kit_rows = pizza_kit_rows[pizza_kit_rows['consequents'].apply(lambda x:  \"banana\" not in x)]\n",
    "\n",
    "# Analyze those itemsets with lift larger than 1\n",
    "pizza_kit_rows.loc[pizza_kit_rows[\"lift\"]>1].sort_values(by=\"lift\", ascending=False)"
   ]
  },
  {
   "cell_type": "markdown",
   "id": "8b0924b6",
   "metadata": {},
   "source": [
    "#### Find the unique products in itemsets occuring with pizza-kit"
   ]
  },
  {
   "cell_type": "code",
   "execution_count": 252,
   "id": "3e2f256d",
   "metadata": {},
   "outputs": [
    {
     "data": {
      "text/plain": [
       "['prosciutto', 'parmesan', 'pizza_cheese', 'pineapple']"
      ]
     },
     "execution_count": 252,
     "metadata": {},
     "output_type": "execute_result"
    }
   ],
   "source": [
    "def get_unqiue_items_from_column(df:pd.DataFrame, column:str=\"consequents\")->list:\n",
    "    products=[]\n",
    "    for frozensets in df[column].tolist():\n",
    "        for product in frozensets:\n",
    "            products.append(product)\n",
    "    products = list(set(products))\n",
    "    return products\n",
    "\n",
    "complementary_products=get_unqiue_items_from_column(df=pizza_kit_rows)\n",
    "complementary_products"
   ]
  },
  {
   "cell_type": "markdown",
   "id": "883d57e2",
   "metadata": {},
   "source": [
    "### Conclusion Task 1a\n",
    "From this analysis we can conclude that:\n",
    "\n",
    "- 'prosciutto'\n",
    "- 'parmesan'\n",
    "- 'pizza_cheese'\n",
    "- 'pineapple'\n",
    "\n",
    "Are the complementary products most frequently bought torgehter with pizza kit"
   ]
  },
  {
   "cell_type": "markdown",
   "id": "286cb68a",
   "metadata": {},
   "source": [
    "## Task 1b - How much should- purchase of these complementary products increase"
   ]
  },
  {
   "cell_type": "code",
   "execution_count": 154,
   "id": "bbcfe3f8",
   "metadata": {},
   "outputs": [
    {
     "data": {
      "text/html": [
       "<div>\n",
       "<style scoped>\n",
       "    .dataframe tbody tr th:only-of-type {\n",
       "        vertical-align: middle;\n",
       "    }\n",
       "\n",
       "    .dataframe tbody tr th {\n",
       "        vertical-align: top;\n",
       "    }\n",
       "\n",
       "    .dataframe thead th {\n",
       "        text-align: right;\n",
       "    }\n",
       "</style>\n",
       "<table border=\"1\" class=\"dataframe\">\n",
       "  <thead>\n",
       "    <tr style=\"text-align: right;\">\n",
       "      <th></th>\n",
       "      <th>antecedent support</th>\n",
       "      <th>consequent support</th>\n",
       "      <th>support</th>\n",
       "      <th>confidence</th>\n",
       "      <th>lift</th>\n",
       "      <th>leverage</th>\n",
       "      <th>conviction</th>\n",
       "    </tr>\n",
       "    <tr>\n",
       "      <th>consequents</th>\n",
       "      <th></th>\n",
       "      <th></th>\n",
       "      <th></th>\n",
       "      <th></th>\n",
       "      <th></th>\n",
       "      <th></th>\n",
       "      <th></th>\n",
       "    </tr>\n",
       "  </thead>\n",
       "  <tbody>\n",
       "    <tr>\n",
       "      <th>(parmesan)</th>\n",
       "      <td>0.051288</td>\n",
       "      <td>0.092121</td>\n",
       "      <td>0.036426</td>\n",
       "      <td>0.709054</td>\n",
       "      <td>7.696975</td>\n",
       "      <td>0.031701</td>\n",
       "      <td>3.121090</td>\n",
       "    </tr>\n",
       "    <tr>\n",
       "      <th>(prosciutto)</th>\n",
       "      <td>0.059939</td>\n",
       "      <td>0.091793</td>\n",
       "      <td>0.043165</td>\n",
       "      <td>0.719553</td>\n",
       "      <td>7.838847</td>\n",
       "      <td>0.037663</td>\n",
       "      <td>3.239212</td>\n",
       "    </tr>\n",
       "    <tr>\n",
       "      <th>(pineapple)</th>\n",
       "      <td>0.053027</td>\n",
       "      <td>0.112884</td>\n",
       "      <td>0.043301</td>\n",
       "      <td>0.816609</td>\n",
       "      <td>7.234064</td>\n",
       "      <td>0.037315</td>\n",
       "      <td>4.837373</td>\n",
       "    </tr>\n",
       "    <tr>\n",
       "      <th>(pizza_cheese)</th>\n",
       "      <td>0.055049</td>\n",
       "      <td>0.109606</td>\n",
       "      <td>0.043301</td>\n",
       "      <td>0.789012</td>\n",
       "      <td>7.198656</td>\n",
       "      <td>0.037268</td>\n",
       "      <td>4.230930</td>\n",
       "    </tr>\n",
       "  </tbody>\n",
       "</table>\n",
       "</div>"
      ],
      "text/plain": [
       "                antecedent support  consequent support   support  confidence  \\\n",
       "consequents                                                                    \n",
       "(parmesan)                0.051288            0.092121  0.036426    0.709054   \n",
       "(prosciutto)              0.059939            0.091793  0.043165    0.719553   \n",
       "(pineapple)               0.053027            0.112884  0.043301    0.816609   \n",
       "(pizza_cheese)            0.055049            0.109606  0.043301    0.789012   \n",
       "\n",
       "                    lift  leverage  conviction  \n",
       "consequents                                     \n",
       "(parmesan)      7.696975  0.031701    3.121090  \n",
       "(prosciutto)    7.838847  0.037663    3.239212  \n",
       "(pineapple)     7.234064  0.037315    4.837373  \n",
       "(pizza_cheese)  7.198656  0.037268    4.230930  "
      ]
     },
     "execution_count": 154,
     "metadata": {},
     "output_type": "execute_result"
    }
   ],
   "source": [
    "pizza_kit_rows.groupby(\"consequents\").mean()"
   ]
  },
  {
   "cell_type": "markdown",
   "id": "d9298386",
   "metadata": {},
   "source": [
    "### Conclusion Taks 1b\n",
    "\n",
    "Since the average confidence of the itemsets containing pizza-kit and the four above listed consequents is around 70-80% we can expect an increase of 300%*(0.75) ~ 225 % in these complementary products. Assuming all products scale linearly in volume."
   ]
  },
  {
   "cell_type": "markdown",
   "id": "dd51d6f7",
   "metadata": {},
   "source": [
    "# Task 2 - Substitute products\n",
    "\n",
    "Taco Shells is one of Axstore’s most popular articles, but unfortunately, the vendor is out of stock and cannot make any more deliveries of that article for the coming weeks. Can the store manager order more of some other article to compensate for the loss of taco shells? That is to say, do we have reason to believe that the sales of taco shells will be transferred to some other articles in the assortment?\n",
    "\n",
    "The problem with using Apriori for substitute products is that if two products are perfect subsitutes to each other, they rarely occur on the same reciept. Thus, another appproach could be to analyze the complementary products to Taco Shells and descriptively find potential substitutes.   "
   ]
  },
  {
   "cell_type": "code",
   "execution_count": 239,
   "id": "eb9d21fa",
   "metadata": {},
   "outputs": [
    {
     "name": "stderr",
     "output_type": "stream",
     "text": [
      "C:\\Users\\iye881\\Anaconda3\\lib\\site-packages\\mlxtend\\frequent_patterns\\fpcommon.py:111: DeprecationWarning: DataFrames with non-bool types result in worse computationalperformance and their support might be discontinued in the future.Please use a DataFrame with bool type\n",
      "  warnings.warn(\n"
     ]
    },
    {
     "data": {
      "text/html": [
       "<div>\n",
       "<style scoped>\n",
       "    .dataframe tbody tr th:only-of-type {\n",
       "        vertical-align: middle;\n",
       "    }\n",
       "\n",
       "    .dataframe tbody tr th {\n",
       "        vertical-align: top;\n",
       "    }\n",
       "\n",
       "    .dataframe thead th {\n",
       "        text-align: right;\n",
       "    }\n",
       "</style>\n",
       "<table border=\"1\" class=\"dataframe\">\n",
       "  <thead>\n",
       "    <tr style=\"text-align: right;\">\n",
       "      <th></th>\n",
       "      <th>antecedents</th>\n",
       "      <th>consequents</th>\n",
       "      <th>antecedent support</th>\n",
       "      <th>consequent support</th>\n",
       "      <th>support</th>\n",
       "      <th>confidence</th>\n",
       "      <th>lift</th>\n",
       "      <th>leverage</th>\n",
       "      <th>conviction</th>\n",
       "    </tr>\n",
       "  </thead>\n",
       "  <tbody>\n",
       "    <tr>\n",
       "      <th>195</th>\n",
       "      <td>(prosciutto, parmesan)</td>\n",
       "      <td>(banana)</td>\n",
       "      <td>0.064911</td>\n",
       "      <td>0.853786</td>\n",
       "      <td>0.048629</td>\n",
       "      <td>0.749158</td>\n",
       "      <td>0.877454</td>\n",
       "      <td>-0.006792</td>\n",
       "      <td>0.582892</td>\n",
       "    </tr>\n",
       "    <tr>\n",
       "      <th>615</th>\n",
       "      <td>(prosciutto, parmesan, pizza_kit)</td>\n",
       "      <td>(banana)</td>\n",
       "      <td>0.049284</td>\n",
       "      <td>0.853786</td>\n",
       "      <td>0.037045</td>\n",
       "      <td>0.751663</td>\n",
       "      <td>0.880388</td>\n",
       "      <td>-0.005033</td>\n",
       "      <td>0.588771</td>\n",
       "    </tr>\n",
       "    <tr>\n",
       "      <th>19</th>\n",
       "      <td>(prosciutto)</td>\n",
       "      <td>(banana)</td>\n",
       "      <td>0.091793</td>\n",
       "      <td>0.853786</td>\n",
       "      <td>0.069063</td>\n",
       "      <td>0.752381</td>\n",
       "      <td>0.881228</td>\n",
       "      <td>-0.009308</td>\n",
       "      <td>0.590478</td>\n",
       "    </tr>\n",
       "    <tr>\n",
       "      <th>837</th>\n",
       "      <td>(prosciutto, mozarella, pizza_kit, olives)</td>\n",
       "      <td>(banana)</td>\n",
       "      <td>0.014206</td>\n",
       "      <td>0.853786</td>\n",
       "      <td>0.010709</td>\n",
       "      <td>0.753846</td>\n",
       "      <td>0.882945</td>\n",
       "      <td>-0.001420</td>\n",
       "      <td>0.593992</td>\n",
       "    </tr>\n",
       "    <tr>\n",
       "      <th>579</th>\n",
       "      <td>(prosciutto, mozarella, olives)</td>\n",
       "      <td>(banana)</td>\n",
       "      <td>0.018249</td>\n",
       "      <td>0.853786</td>\n",
       "      <td>0.013769</td>\n",
       "      <td>0.754491</td>\n",
       "      <td>0.883700</td>\n",
       "      <td>-0.001812</td>\n",
       "      <td>0.595553</td>\n",
       "    </tr>\n",
       "  </tbody>\n",
       "</table>\n",
       "</div>"
      ],
      "text/plain": [
       "                                    antecedents consequents  \\\n",
       "195                      (prosciutto, parmesan)    (banana)   \n",
       "615           (prosciutto, parmesan, pizza_kit)    (banana)   \n",
       "19                                 (prosciutto)    (banana)   \n",
       "837  (prosciutto, mozarella, pizza_kit, olives)    (banana)   \n",
       "579             (prosciutto, mozarella, olives)    (banana)   \n",
       "\n",
       "     antecedent support  consequent support   support  confidence      lift  \\\n",
       "195            0.064911            0.853786  0.048629    0.749158  0.877454   \n",
       "615            0.049284            0.853786  0.037045    0.751663  0.880388   \n",
       "19             0.091793            0.853786  0.069063    0.752381  0.881228   \n",
       "837            0.014206            0.853786  0.010709    0.753846  0.882945   \n",
       "579            0.018249            0.853786  0.013769    0.754491  0.883700   \n",
       "\n",
       "     leverage  conviction  \n",
       "195 -0.006792    0.582892  \n",
       "615 -0.005033    0.588771  \n",
       "19  -0.009308    0.590478  \n",
       "837 -0.001420    0.593992  \n",
       "579 -0.001812    0.595553  "
      ]
     },
     "execution_count": 239,
     "metadata": {},
     "output_type": "execute_result"
    }
   ],
   "source": [
    "# Obtain the item-sets\n",
    "frq_items = apriori(table, min_support = 0.01, use_colnames = True)\n",
    "lift_df = association_rules(frq_items, metric =\"confidence\", min_threshold = 0.7)\n",
    "lift_df = lift_df.sort_values(by= 'lift', ascending =True)\n",
    "lift_df.head()"
   ]
  },
  {
   "cell_type": "code",
   "execution_count": 240,
   "id": "7ed1daf0",
   "metadata": {},
   "outputs": [
    {
     "data": {
      "text/plain": [
       "(909, 9)"
      ]
     },
     "execution_count": 240,
     "metadata": {},
     "output_type": "execute_result"
    }
   ],
   "source": [
    "lift_df.shape"
   ]
  },
  {
   "cell_type": "code",
   "execution_count": 241,
   "id": "7e1204e3",
   "metadata": {},
   "outputs": [],
   "source": [
    "# filter out taco shells item-sets with more than one item in it\n",
    "taco_shell_df = lift_df[lift_df['antecedents'].apply(lambda x: \"taco_shell\" in x)]\n",
    "taco_shell_df = taco_shell_df[taco_shell_df['consequents'].apply(lambda x: len(x) == 1)]\n",
    "\n",
    "# # filter out banan since its conviction value is comparably low, and that banan occurs in almost every transaction\n",
    "taco_shell_df = taco_shell_df[taco_shell_df['consequents'].apply(lambda x:  \"banana\" not in x)]"
   ]
  },
  {
   "cell_type": "code",
   "execution_count": 257,
   "id": "8fc37ea2",
   "metadata": {},
   "outputs": [
    {
     "data": {
      "text/plain": [
       "['taco_spice_mix', 'taco_salsa', 'minced_meat', 'corn']"
      ]
     },
     "execution_count": 257,
     "metadata": {},
     "output_type": "execute_result"
    }
   ],
   "source": [
    "# obtain the complementary products to Taco Shells\n",
    "complementary_products=get_unqiue_items_from_column(df=taco_shell_df)\n",
    "complementary_products"
   ]
  },
  {
   "cell_type": "code",
   "execution_count": 260,
   "id": "c5215ec6",
   "metadata": {},
   "outputs": [
    {
     "name": "stdout",
     "output_type": "stream",
     "text": [
      "['pizza_cheese', 'pineapple', 'taco_spice_mix', 'pizza_kit', 'onion', 'taco_tortilla', 'corn', 'taco_tubs', 'taco_salsa', 'banana', 'ham', 'minced_meat', 'olives', 'taco_shell', 'apple']\n"
     ]
    }
   ],
   "source": [
    "# iterate over all complementary products to find their unique cosequents\n",
    "\n",
    "all_complementary_products=[]\n",
    "def get_taco_shell_complementary_substitute_products(df:pd.DataFrame, product:str)->list:\n",
    "    df = lift_df[lift_df['consequents'].apply(lambda x: product in x)]\n",
    "    df = df[df['consequents'].apply(lambda x:  \"banana\" not in x)]\n",
    "    df=df.loc[(df[\"lift\"]>1) & (df[\"conviction\"]>1)]\n",
    "    products=get_unqiue_items_from_column(df=df,column=\"antecedents\")\n",
    "    all_complementary_products.append(products)\n",
    "    \n",
    "for product in complementary_products:\n",
    "    get_taco_shell_complementary_substitute_products(df=taco_tube_df,product=product)\n",
    "\n",
    "\n",
    "print(list(set([element for sublist in all_complementary_products for element in sublist])))"
   ]
  },
  {
   "cell_type": "markdown",
   "id": "1f91f74b",
   "metadata": {},
   "source": [
    "### Analyze if selected products are potential substitues\n",
    "- taco_tortilla\n",
    "- taco_tubs"
   ]
  },
  {
   "cell_type": "code",
   "execution_count": 263,
   "id": "3cddea11",
   "metadata": {},
   "outputs": [
    {
     "data": {
      "text/plain": [
       "['taco_spice_mix', 'taco_salsa', 'minced_meat', 'corn']"
      ]
     },
     "execution_count": 263,
     "metadata": {},
     "output_type": "execute_result"
    }
   ],
   "source": [
    "# Extract the item sets for taco_tortilla\n",
    "taco_sub_df = lift_df[lift_df['antecedents'].apply(lambda x: \"taco_tortilla\" in x)]\n",
    "taco_sub_df = taco_sub_df[taco_sub_df['consequents'].apply(lambda x: len(x) == 1)]\n",
    "# # filter out banan since its conviction value is comparably low, and that banan occurs in almost every transaction\n",
    "taco_sub_df = taco_sub_df[taco_sub_df['consequents'].apply(lambda x:  \"banana\" not in x)]\n",
    "complementary_products=get_unqiue_items_from_column(df=taco_sub_df)\n",
    "complementary_products"
   ]
  },
  {
   "cell_type": "code",
   "execution_count": 264,
   "id": "328c0037",
   "metadata": {},
   "outputs": [
    {
     "data": {
      "text/plain": [
       "['taco_spice_mix', 'taco_salsa', 'corn']"
      ]
     },
     "execution_count": 264,
     "metadata": {},
     "output_type": "execute_result"
    }
   ],
   "source": [
    "# Extract the item sets for taco_tubs\n",
    "taco_sub_df = lift_df[lift_df['antecedents'].apply(lambda x: \"taco_tubs\" in x)]\n",
    "taco_sub_df = taco_sub_df[taco_sub_df['consequents'].apply(lambda x: len(x) == 1)]\n",
    "# # filter out banan since its conviction value is comparably low, and that banan occurs in almost every transaction\n",
    "taco_sub_df = taco_sub_df[taco_sub_df['consequents'].apply(lambda x:  \"banana\" not in x)]\n",
    "complementary_products=get_unqiue_items_from_column(df=taco_sub_df)\n",
    "complementary_products"
   ]
  },
  {
   "cell_type": "markdown",
   "id": "2ab5b720",
   "metadata": {},
   "source": [
    "## Conclusion Task 2\n",
    "\n",
    "Substitutes for Taco Shells would be: \n",
    "- Taco Tortilla\n",
    "- Taco Tubs\n",
    "\n",
    "As we can see from their lists of common complemnatary products they are almost thee same as those for Taco Shells: \n",
    "- Taco Shells: ['taco_spice_mix', 'taco_salsa', 'minced_meat', 'corn']\n",
    "- Taco Tortilla: ['taco_spice_mix', 'taco_salsa', 'minced_meat', 'corn']\n",
    "- Taco Subs: ['taco_spice_mix', 'taco_salsa', 'corn']"
   ]
  }
 ],
 "metadata": {
  "kernelspec": {
   "display_name": "association_store",
   "language": "python",
   "name": "association_store"
  },
  "language_info": {
   "codemirror_mode": {
    "name": "ipython",
    "version": 3
   },
   "file_extension": ".py",
   "mimetype": "text/x-python",
   "name": "python",
   "nbconvert_exporter": "python",
   "pygments_lexer": "ipython3",
   "version": "3.9.12"
  }
 },
 "nbformat": 4,
 "nbformat_minor": 5
}
